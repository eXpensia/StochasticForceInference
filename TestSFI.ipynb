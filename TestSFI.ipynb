{
 "cells": [
  {
   "cell_type": "code",
   "execution_count": 2,
   "metadata": {},
   "outputs": [],
   "source": [
    "from StochasticForceInference import *\n",
    "import numpy as np\n",
    "from scipy.io import loadmat\n",
    "import matplotlib.pyplot as plt"
   ]
  },
  {
   "cell_type": "code",
   "execution_count": 3,
   "metadata": {},
   "outputs": [],
   "source": [
    "data_raw = loadmat(\"fit_result_dur_27052020_n_r_fix_0p0513_wav_532_r_1p516_n_1.597.mat\")[\"data\"][:,:3]"
   ]
  },
  {
   "cell_type": "code",
   "execution_count": 4,
   "metadata": {},
   "outputs": [],
   "source": [
    "data = data_raw * 0.0153 * 1e-6\n",
    "data[:,2] = data[:,2] - np.min(data[:,2]) "
   ]
  },
  {
   "cell_type": "code",
   "execution_count": 5,
   "metadata": {},
   "outputs": [
    {
     "data": {
      "text/plain": [
       "[<matplotlib.lines.Line2D at 0x7fdacc043950>]"
      ]
     },
     "execution_count": 5,
     "metadata": {},
     "output_type": "execute_result"
    },
    {
     "data": {
      "image/png": "[encoded data removed]",
      "text/plain": [
       "<Figure size 432x288 with 1 Axes>"
      ]
     },
     "metadata": {
      "needs_background": "light"
     },
     "output_type": "display_data"
    }
   ],
   "source": [
    "plt.plot(data[:,2])"
   ]
  },
  {
   "cell_type": "code",
   "execution_count": 6,
   "metadata": {},
   "outputs": [],
   "source": [
    "xlist = np.ones((len(data),1,3))\n",
    "xlist[:,0,:] = data \n",
    "tlist = np.arange(len(xlist)) / 60\n",
    "\n",
    "data = StochasticTrajectoryData(xlist,tlist)  "
   ]
  },
  {
   "cell_type": "code",
   "execution_count": 7,
   "metadata": {},
   "outputs": [
    {
     "name": "stdout",
     "output_type": "stream",
     "text": [
      "             \n",
      "  --- StochasticForceInference report --- \n",
      "Average diffusion tensor:\n",
      " [[ 6.88090934e-15 -2.95861992e-16 -1.56042856e-17]\n",
      " [-2.95861992e-16  6.85335761e-15  3.73458610e-17]\n",
      " [-1.56042856e-17  3.73458610e-17  3.05953804e-15]]\n",
      "Entropy production: inferred/bootstrapped error 158.87445229917432 210.75518713568675\n",
      "Drift information: inferred/bootstrapped error 178043.73540581408 599.0356590484645\n",
      "Drift: squared typical error on projections: 7.84183665754942\n",
      "  - due to trajectory length: 0.0002948713689944611\n",
      "  - due to discretization: 7.841541786180426\n",
      "Diffusion: squared typical error on projections: 38.363529323014916\n",
      "  - due to trajectory length: 0.010956712290648533\n",
      "  - due to discretization: 0.00014996897802797957\n",
      "  - due to drift: 38.35242264174624\n"
     ]
    }
   ],
   "source": [
    "S = StochasticForceInference(data)  \n",
    "\n",
    "S.compute_drift(#basis = { 'type' : 'pade', 'order' : 2} ,\n",
    "                basis = { 'type' : 'polynomial', 'order' : 4} ,\n",
    "                #basis = { 'type' : 'Fourier', 'order' : 4, 'center' : 0, 'width' : 400e-9, } ,\n",
    "                #basis = { 'type' : 'Fourier', 'order' : 4, 'center' : center, 'width' : width, } ,\n",
    "                #diffusion_mode = 'WeakNoise',  # Best for space-dependent noise with large dt\n",
    "                #diffusion_mode = 'MSD',        # Best for space-dependent noise with short trajectories\n",
    "                #diffusion_mode = 'constant',   \n",
    "                diffusion_mode = 'Vestergaard', # Best for space-dependent noise with large measurement error \n",
    "                #mode='Ito'\n",
    "                mode='Stratonovich'\n",
    ") \n",
    "\n",
    "\n",
    "S.compute_diffusion(\n",
    "    method='Vestergaard',\n",
    "    #method='MSD',\n",
    "    #method='WeakNoise',\n",
    "    basis = { 'type' : 'polynomial', 'order' :4}\n",
    "    #basis = { 'type' : 'pade', 'order' :2}\n",
    ") \n",
    "\n",
    "S.compute_force()\n",
    "S.compute_drift_error() \n",
    "S.compute_diffusion_error()\n",
    "S.compute_entropy()\n",
    "\n",
    "S.print_report()"
   ]
  },
  {
   "cell_type": "code",
   "execution_count": 8,
   "metadata": {},
   "outputs": [
    {
     "data": {
      "text/plain": [
       "5.351293392980161e-06"
      ]
     },
     "execution_count": 8,
     "metadata": {},
     "output_type": "execute_result"
    }
   ],
   "source": [
    "field=S.F_ansatz\n",
    "#field=S.phi_ansatz\n",
    "field2=S.D_ansatz;\n",
    "dataT=S.data\n",
    "\n",
    "\n",
    "dir1 = np.zeros(dataT.d);dir1[0] = 1\n",
    "dir2 = np.zeros(dataT.d);dir2[1] = 1\n",
    "dir3 = np.zeros(dataT.d);dir3[2] = 1\n",
    "\n",
    "center = dataT.X_ito.mean(axis=(0,1))\n",
    "radius  = 0.5 * ( dataT.X_ito.max(axis=(0,1)) - dataT.X_ito.min(axis=(0,1)) ).max()\n",
    "radius"
   ]
  },
  {
   "cell_type": "code",
   "execution_count": 9,
   "metadata": {},
   "outputs": [],
   "source": [
    "N=21\n",
    "Rmin=dataT.X_ito.min(axis=(0,1))\n",
    "Rmax=dataT.X_ito.max(axis=(0,1))\n",
    "#abin=np.linspace(-radius,radius,N)\n",
    "#bbin=np.linspace(-radius,radius,N)\n",
    "\n",
    "#abin=np.linspace(Rmin[0],Rmax[0],N)\n",
    "abin=np.linspace(Rmin[0],25e-6,N)\n",
    "#abin=np.linspace(Rmin[0],25e-6,N)\n",
    "#bbin=np.linspace(Rmin[1],Rmax[1],N)\n",
    "bbin=np.linspace(Rmin[1],40e-6,N)\n",
    "cbin=np.linspace(10e-9,0.5e-6,N)\n",
    "#cbin=np.linspace(Rmin[2],Rmax[2],N)\n"
   ]
  },
  {
   "cell_type": "code",
   "execution_count": 10,
   "metadata": {},
   "outputs": [],
   "source": [
    "abin=np.linspace(Rmin[0],25e-6,N)\n",
    "#abin=np.linspace(Rmin[0],25e-6,N)\n",
    "#bbin=np.linspace(Rmin[1],Rmax[1],N)\n",
    "bbin=np.linspace(Rmin[1],40e-6,N)\n",
    "cbin=np.linspace(10e-9,0.5e-6,N)\n",
    "\n",
    "\n",
    "positions = [0*center + a * dir1 + b * dir2  + c * dir3 for a in abin for b in bbin for c in cbin]\n"
   ]
  },
  {
   "cell_type": "code",
   "execution_count": 11,
   "metadata": {},
   "outputs": [],
   "source": [
    "NN = len(positions)\n",
    "\n",
    "gridX,gridY,gridZ = np.ones(NN), np.ones(NN), np.ones(NN)\n",
    "vX,vY,vZ = [],[],[]\n",
    "Dx,Dy,Dz = [],[],[]\n",
    "pos=[]\n",
    "\n",
    "for n, pos in enumerate(positions):\n",
    "    x = dir1.dot(pos)\n",
    "    y = dir2.dot(pos)\n",
    "    z = dir3.dot(pos)\n",
    "    gridX[n] = x\n",
    "    gridY[n] = y\n",
    "    gridZ[n] = z\n",
    "    # Reshape to adapt to the SFI data structure (1st index is\n",
    "    # particle index):\n",
    "    v = field( pos.reshape((1,dataT.d)) )\n",
    "    vX.append(dir1.dot(v[0,:]))\n",
    "    vY.append(dir2.dot(v[0,:]))\n",
    "    vZ.append(dir3.dot(v[0,:]))\n",
    "    tensor = field2(pos.reshape((1,dataT.d)))\n",
    "    Dx.append(tensor[0,0,0])\n",
    "    Dy.append(tensor[0,1,1])\n",
    "    Dz.append(tensor[0,2,2])\n",
    "\n",
    "Dx,Dy,Dz = np.array(Dx), np.array(Dy), np.array(Dz)"
   ]
  },
  {
   "cell_type": "code",
   "execution_count": 15,
   "metadata": {},
   "outputs": [
    {
     "data": {
      "text/plain": [
       "(9261,)"
      ]
     },
     "execution_count": 15,
     "metadata": {},
     "output_type": "execute_result"
    }
   ],
   "source": []
  },
  {
   "cell_type": "code",
   "execution_count": null,
   "metadata": {},
   "outputs": [],
   "source": [
    "\n",
    "\n",
    "gridX,gridY,gridZ = [],[],[]\n",
    "vX,vY,vZ = [],[],[]\n",
    "Dx,Dy,Dz = [],[],[]\n",
    "pos=[]\n",
    "\n",
    "for pos in positions:\n",
    " x = dir1.dot(pos)\n",
    " y = dir2.dot(pos)\n",
    " z = dir3.dot(pos)\n",
    " gridX.append(x)\n",
    " gridY.append(y)\n",
    " gridZ.append(z)\n",
    "# Reshape to adapt to the SFI data structure (1st index is\n",
    "# particle index):\n",
    " v = field( pos.reshape((1,dataT.d)) )\n",
    " vX.append(dir1.dot(v[0,:]))\n",
    " vY.append(dir2.dot(v[0,:]))\n",
    " vZ.append(dir3.dot(v[0,:]))\n",
    " tensor = field2(pos.reshape((1,dataT.d)))\n",
    " Dx.append(tensor[0,0,0])\n",
    " Dy.append(tensor[0,1,1])\n",
    " Dz.append(tensor[0,2,2])\n",
    "\n",
    "Dx,Dy,Dz = np.array(Dx), np.array(Dy), np.array(Dz)\n",
    "\n",
    "#    eigvals,eigvecs = np.linalg.eigh(tensor.reshape((3,3)))\n",
    "#            for j in range(3): \n",
    "#                X.append( pos[0] )\n",
    "#                Y.append( pos[1] )\n",
    "#                Z.append( pos[2] )\n",
    "#                U.append( eigvals[j] * eigvecs[0,j] )\n",
    "#                V.append( eigvals[j] * eigvecs[1,j] )\n",
    "#                W.append( eigvals[j] * eigvecs[2,j] )\n",
    "\n",
    "\n",
    "\n",
    "\n",
    "\n",
    "#positions = []\n",
    "#for a in np.linspace(-radius,radius,N):\n",
    "# for b in np.linspace(-radius,radius,N):\n",
    "#  positions.append(center + np.array([a,b]))\n",
    " \n",
    " \n",
    "#######diffusion bloc\n",
    "#field=S.D_ansatz;\n",
    "#X,Y,U,V = [],[],[],[]\n",
    "#\n",
    "#for pos in positions: \n",
    "#    posr = pos.reshape((1,dataT.d)) \n",
    "#    tensor = field( posr )\n",
    "##    eigvals,eigvecs = np.linalg.eigh(tensor.reshape((3,3)))\n",
    "##    for j in range(2): \n",
    "#    X.append( pos[0] )\n",
    "#    Y.append( pos[1] )\n",
    "#    U.append(tensor[0,0,0])\n",
    "#    V.append(tensor[0,1,1])    \n",
    "##    for j in range(2): \n",
    "##        X.append( pos[0] )\n",
    "##        Y.append( pos[1] )\n",
    "##        U.append( eigvals[j] * eigvecs[0,j] )\n",
    "##        V.append( eigvals[j] * eigvecs[1,j] )\n",
    "#\n",
    "#    \n",
    "#    \n",
    "#\n",
    "##        if autoscale:\n",
    "##            scale /= max(np.array(U)**2 + np.array(V)**2)**0.5\n",
    "#\n",
    "#X,Y =  np.array(X),np.array(Y)\n",
    "#Dx,Dz = np.array(U), np.array(V)\n",
    "#                                            \n",
    "##        plt.quiver(X-dX,Y-dY,2*dX,2*dY,scale = 1.0,units = 'xy',color = color,minlength=0.,headwidth=1.,headlength=0.,**kwargs)\n",
    "#                                                 \n",
    "##        plt.axis('equal') \n",
    "##        plt.xticks([])\n",
    "##        plt.yticks([])"
   ]
  },
  {
   "cell_type": "code",
   "execution_count": null,
   "metadata": {},
   "outputs": [],
   "source": []
  }
 ],
 "metadata": {
  "kernelspec": {
   "display_name": "Python 3",
   "language": "python",
   "name": "python3"
  },
  "language_info": {
   "codemirror_mode": {
    "name": "ipython",
    "version": 3
   },
   "file_extension": ".py",
   "mimetype": "text/x-python",
   "name": "python",
   "nbconvert_exporter": "python",
   "pygments_lexer": "ipython3",
   "version": "3.7.6"
  }
 },
 "nbformat": 4,
 "nbformat_minor": 4
}
